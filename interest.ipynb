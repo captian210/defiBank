{
 "cells": [
  {
   "cell_type": "markdown",
   "metadata": {},
   "source": [
    "## how interest in bank.sol is calculated\n",
    "\n",
    "interest is a function of the liquidity pool and the size of the user's loan to proportional to the total amount loaned out\n"
   ]
  },
  {
   "cell_type": "code",
   "execution_count": null,
   "metadata": {},
   "outputs": [],
   "source": [
    "# size of liquidity pool - 10 ether\n",
    "deposited = 10e18\n",
    "\n",
    "# size of all loans - 1 ether\n",
    "lended = 1e18\n",
    "\n",
    "# size of user's loan\n",
    "loan = 1e18\n",
    "\n",
    "# liquidity available in ether\n",
    "available = deposited - lended\n",
    "\n",
    "# calculate ether to be paid back in full\n",
    "payment = (deposited * loan) / available\n",
    "\n",
    "# calculate amount to be paid in addition to loan\n",
    "interest = payment - loan\n",
    "\n",
    "# loan + interest = payment \n",
    "print(loan + interest)"
   ]
  },
  {
   "cell_type": "code",
   "execution_count": null,
   "metadata": {},
   "outputs": [],
   "source": [
    "# time loan was taken out\n",
    "blocktime=0\n",
    "\n",
    "# 2102400 blocks later i.e. one year later\n",
    "timenow=2102400\n",
    "\n",
    "# time loan was out\n",
    "time = timenow-blocktime\n",
    "\n",
    "# simple continuous interest\n",
    "interestA = interest * time / 2102400\n",
    "\n",
    "#print(interestC)\n",
    "\n",
    "# total amount due\n",
    "paymentDue = loan + interest + interestA\n",
    "print(paymentDue)"
   ]
  },
  {
   "cell_type": "code",
   "execution_count": null,
   "metadata": {},
   "outputs": [],
   "source": [
    "# blocks per day\n",
    "2102400/365"
   ]
  }
 ],
 "metadata": {
  "language_info": {
   "name": "python"
  },
  "orig_nbformat": 4
 },
 "nbformat": 4,
 "nbformat_minor": 2
}
