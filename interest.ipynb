{
 "cells": [
  {
   "cell_type": "markdown",
   "metadata": {},
   "source": [
    "## how interest in bank.sol is calculated\n",
    "\n",
    "interest is a function of the liquidity pool and the size of the user's loan to proportional to the total amount loaned out\n"
   ]
  },
  {
   "cell_type": "code",
   "execution_count": 13,
   "metadata": {},
   "outputs": [
    {
     "name": "stdout",
     "output_type": "stream",
     "text": [
      "1.111111111111111e+18\n"
     ]
    }
   ],
   "source": [
    "# size of liquidity pool - 10 ether\n",
    "deposited = 10e18\n",
    "\n",
    "# size of all loans - 1 ether\n",
    "lended = 1e18\n",
    "\n",
    "# size of user's loan\n",
    "loan = 1e18\n",
    "\n",
    "# liquidity available in ether\n",
    "available = deposited - lended\n",
    "\n",
    "# calculate ether to be paid back in full\n",
    "payment = (deposited * loan) / available\n",
    "\n",
    "# calculate amount to be paid in addition to loan\n",
    "interest = payment - loan\n",
    "\n",
    "# loan + interest = payment \n",
    "print(loan + interest)"
   ]
  },
  {
   "cell_type": "code",
   "execution_count": 14,
   "metadata": {},
   "outputs": [
    {
     "name": "stdout",
     "output_type": "stream",
     "text": [
      "1.222222222222222e+18\n"
     ]
    }
   ],
   "source": [
    "# time loan was taken out\n",
    "blocktime=0\n",
    "\n",
    "# 2102400 blocks later i.e. one year later\n",
    "timenow=2102400\n",
    "\n",
    "# time loan was out\n",
    "time = timenow-blocktime\n",
    "\n",
    "# simple continuous interest\n",
    "interestA = interest * time / 2102400\n",
    "\n",
    "#print(interestC)\n",
    "\n",
    "# total amount due\n",
    "paymentDue = loan + interest + interestA\n",
    "print(paymentDue)"
   ]
  },
  {
   "cell_type": "code",
   "execution_count": 15,
   "metadata": {},
   "outputs": [
    {
     "data": {
      "text/plain": [
       "5760.0"
      ]
     },
     "execution_count": 15,
     "metadata": {},
     "output_type": "execute_result"
    }
   ],
   "source": [
    "# blocks per day\n",
    "2102400/365"
   ]
  },
  {
   "cell_type": "code",
   "execution_count": null,
   "metadata": {},
   "outputs": [],
   "source": []
  },
  {
   "cell_type": "code",
   "execution_count": 16,
   "metadata": {},
   "outputs": [],
   "source": [
    "def liquidityPool(deposited):\n",
    "    #deposited = 10\n",
    "    lended = 1\n",
    "    loan = 1\n",
    "    available = deposited - lended\n",
    "    payment = (deposited * loan) / available\n",
    "    interest = payment - loan\n",
    "    blocktime=0\n",
    "    timenow=2102400\n",
    "    time = timenow-blocktime\n",
    "    interestA = interest * time / 2102400\n",
    "    paymentDue = loan + interest + interestA\n",
    "    totalInterest = interest + interestA\n",
    "    \n",
    "    return totalInterest\n",
    "    \n",
    "    \n",
    "def lendingPool(lended):\n",
    "    deposited = 100\n",
    "    #lended = 1\n",
    "    loan = 1\n",
    "    available = deposited - lended\n",
    "    payment = (deposited * loan) / available\n",
    "    interest = payment - loan\n",
    "    blocktime=0\n",
    "    timenow=2102400\n",
    "    time = timenow-blocktime\n",
    "    interestA = interest * time / 2102400\n",
    "    paymentDue = loan + interest + interestA\n",
    "    totalInterest = interest + interestA\n",
    "    \n",
    "    return totalInterest\n",
    "\n",
    "def timeLoaned(timenow):\n",
    "    deposited = 100\n",
    "    lended = 1\n",
    "    loan = 1\n",
    "    available = deposited - lended\n",
    "    payment = (deposited * loan) / available\n",
    "    interest = payment - loan\n",
    "    blocktime=0\n",
    "    #timenow=2102400\n",
    "    time = timenow-blocktime\n",
    "    interestA = interest * time / 2102400\n",
    "    paymentDue = loan + interest + interestA\n",
    "    totalInterest = interest + interestA\n",
    "    \n",
    "    return totalInterest"
   ]
  },
  {
   "cell_type": "code",
   "execution_count": 17,
   "metadata": {},
   "outputs": [],
   "source": [
    "import numpy as np\n",
    "import matplotlib.pyplot as plt"
   ]
  },
  {
   "cell_type": "code",
   "execution_count": 18,
   "metadata": {},
   "outputs": [
    {
     "name": "stderr",
     "output_type": "stream",
     "text": [
      "<ipython-input-16-bd02390524d0>:6: RuntimeWarning: divide by zero encountered in true_divide\n",
      "  payment = (deposited * loan) / available\n"
     ]
    },
    {
     "data": {
      "image/png": "[encoded data removed]",
      "text/plain": [
       "<Figure size 432x288 with 1 Axes>"
      ]
     },
     "metadata": {
      "needs_background": "light"
     },
     "output_type": "display_data"
    }
   ],
   "source": [
    "x1 = np.arange(0, 100, 1)\n",
    "y1 = liquidityPool(x1)\n",
    "plt.plot(x1, y1)\n",
    "plt.axis([0, 100, 0, 2])\n",
    "plt.title(\"Interest as Function of Provided Liquidity\")\n",
    "plt.xlabel(\"Liquidity Pool Size in Eth\")\n",
    "plt.ylabel(\"Interest\")\n",
    "plt.show()"
   ]
  },
  {
   "cell_type": "code",
   "execution_count": 19,
   "metadata": {},
   "outputs": [
    {
     "data": {
      "image/png": "[encoded data removed]",
      "text/plain": [
       "<Figure size 432x288 with 1 Axes>"
      ]
     },
     "metadata": {
      "needs_background": "light"
     },
     "output_type": "display_data"
    }
   ],
   "source": [
    "x2 = np.arange(0, 100, 1)\n",
    "y2 = lendingPool(x2)\n",
    "plt.plot(x2, y2)\n",
    "plt.axis([0, 100, 0, 2])\n",
    "plt.title(\"Interest as Function of Amount Eth Lended\")\n",
    "plt.xlabel(\"Amount Eth Loaned\")\n",
    "plt.ylabel(\"Interest\")\n",
    "plt.show()"
   ]
  },
  {
   "cell_type": "code",
   "execution_count": 20,
   "metadata": {},
   "outputs": [
    {
     "data": {
      "image/png": "[encoded data removed]",
      "text/plain": [
       "<Figure size 432x288 with 1 Axes>"
      ]
     },
     "metadata": {
      "needs_background": "light"
     },
     "output_type": "display_data"
    }
   ],
   "source": [
    "x3 = np.arange(0, 2102400, 1000)\n",
    "y3 = timeLoaned(x3)\n",
    "plt.plot(x3, y3)\n",
    "plt.title(\"Interest as Function of Time\")\n",
    "plt.xlabel(\"Block Time\")\n",
    "plt.ylabel(\"Interest\")\n",
    "plt.show()"
   ]
  }
 ],
 "metadata": {
  "interpreter": {
   "hash": "916dbcbb3f70747c44a77c7bcd40155683ae19c65e1c03b4aa3499c5328201f1"
  },
  "kernelspec": {
   "display_name": "Python 3.8.10 64-bit",
   "language": "python",
   "name": "python3"
  },
  "language_info": {
   "codemirror_mode": {
    "name": "ipython",
    "version": 3
   },
   "file_extension": ".py",
   "mimetype": "text/x-python",
   "name": "python",
   "nbconvert_exporter": "python",
   "pygments_lexer": "ipython3",
   "version": "3.8.10"
  },
  "orig_nbformat": 4
 },
 "nbformat": 4,
 "nbformat_minor": 2
}
